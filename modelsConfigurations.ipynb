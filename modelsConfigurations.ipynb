{
 "cells": [
  {
   "cell_type": "code",
   "execution_count": 2,
   "metadata": {},
   "outputs": [
    {
     "name": "stderr",
     "output_type": "stream",
     "text": [
      "Using TensorFlow backend.\n"
     ]
    }
   ],
   "source": [
    "import os\n",
    "# os.environ[\"CUDA_VISIBLE_DEVICES\"]=\"-1\"  \n",
    "\n",
    "import tensorflow as tf\n",
    "from tensorflow import keras\n",
    "from keras.optimizers import Adam\n",
    "from keras.models import Sequential\n",
    "from keras.layers import Dense, Conv2D, MaxPool2D , Flatten,  MaxPooling2D\n",
    "from keras.preprocessing.image import ImageDataGenerator\n",
    "from keras.callbacks import ModelCheckpoint, EarlyStopping\n",
    "import matplotlib.pyplot as plt\n",
    "from keras.preprocessing import image\n",
    "from keras.models import load_model\n",
    "import numpy as np"
   ]
  },
  {
   "cell_type": "code",
   "execution_count": 3,
   "metadata": {},
   "outputs": [
    {
     "name": "stdout",
     "output_type": "stream",
     "text": [
      "not\n"
     ]
    }
   ],
   "source": [
    "physical_devices = tf.config.list_physical_devices('GPU') \n",
    "try:\n",
    "    tf.config.experimental.set_memory_growth(physical_devices[0], True) \n",
    "    tf.config.log_device_placement = True  # to log device placement (on which device the operation ran)\n",
    "except: \n",
    "    print(\"not\")"
   ]
  },
  {
   "cell_type": "code",
   "execution_count": 5,
   "metadata": {},
   "outputs": [
    {
     "name": "stdout",
     "output_type": "stream",
     "text": [
      "Found 22424 images belonging to 10 classes.\n",
      "Found 22424 images belonging to 10 classes.\n"
     ]
    }
   ],
   "source": [
    "data = ImageDataGenerator()\n",
    "traindata = data.flow_from_directory(directory=\"..\\\\data\\\\imgs\\\\train\",target_size=(224, 224))\n",
    "testdata = data.flow_from_directory(directory=\"..\\\\data\\\\imgs\\\\test\", target_size=(224, 224))"
   ]
  },
  {
   "cell_type": "code",
   "execution_count": 6,
   "metadata": {},
   "outputs": [],
   "source": [
    "model = Sequential()\n",
    "\n",
    "model.add(Conv2D(input_shape=(224,224,3),filters=64,kernel_size=(3,3),padding=\"same\", activation=\"relu\"))\n",
    "\n",
    "model.add(Conv2D(filters=64,kernel_size=(3,3),padding=\"same\", activation=\"relu\"))\n",
    "\n",
    "model.add(MaxPool2D(pool_size=(2,2),strides=(2,2)))\n",
    "\n",
    "model.add(Conv2D(filters=128, kernel_size=(3,3), padding=\"same\", activation=\"relu\"))\n",
    "\n",
    "model.add(Conv2D(filters=128, kernel_size=(3,3), padding=\"same\", activation=\"relu\"))\n",
    "\n",
    "model.add(MaxPool2D(pool_size=(2,2),strides=(2,2)))\n",
    "\n",
    "model.add(Conv2D(filters=256, kernel_size=(3,3), padding=\"same\", activation=\"relu\"))\n",
    "\n",
    "model.add(Conv2D(filters=256, kernel_size=(3,3), padding=\"same\", activation=\"relu\"))\n",
    "\n",
    "model.add(Conv2D(filters=256, kernel_size=(3,3), padding=\"same\", activation=\"relu\"))\n",
    "\n",
    "model.add(MaxPool2D(pool_size=(2,2),strides=(2,2)))\n",
    "\n",
    "model.add(Conv2D(filters=512, kernel_size=(3,3), padding=\"same\", activation=\"relu\"))\n",
    "\n",
    "model.add(Conv2D(filters=512, kernel_size=(3,3), padding=\"same\", activation=\"relu\"))\n",
    "\n",
    "model.add(Conv2D(filters=512, kernel_size=(3,3), padding=\"same\", activation=\"relu\"))\n",
    "\n",
    "model.add(MaxPool2D(pool_size=(2,2),strides=(2,2)))\n",
    "\n",
    "model.add(Conv2D(filters=512, kernel_size=(3,3), padding=\"same\", activation=\"relu\"))\n",
    "\n",
    "model.add(Conv2D(filters=512, kernel_size=(3,3), padding=\"same\", activation=\"relu\"))\n",
    "\n",
    "model.add(Conv2D(filters=512, kernel_size=(3,3), padding=\"same\", activation=\"relu\"))\n",
    "\n",
    "model.add(MaxPool2D(pool_size=(2,2),strides=(2,2)))\n",
    "\n",
    "model.add(Flatten())\n",
    "\n",
    "model.add(Dense(units=4096,activation=\"relu\"))\n",
    "\n",
    "model.add(Dense(units=4096,activation=\"relu\"))\n",
    "\n",
    "model.add(Dense(units=10, activation=\"softmax\"))"
   ]
  },
  {
   "cell_type": "code",
   "execution_count": 5,
   "metadata": {},
   "outputs": [],
   "source": [
    "model = Sequential([\n",
    "    Conv2D(16, 3, padding='same', activation='relu', input_shape=(224, 224 ,3)),\n",
    "    MaxPooling2D(),\n",
    "    Conv2D(32, 3, padding='same', activation='relu'),\n",
    "    MaxPooling2D(),\n",
    "    Conv2D(64, 3, padding='same', activation='relu'),\n",
    "    MaxPooling2D(),\n",
    "    Flatten(),\n",
    "    Dense(512, activation='relu'),\n",
    "    Dense(10)\n",
    "])"
   ]
  },
  {
   "cell_type": "code",
   "execution_count": 7,
   "metadata": {},
   "outputs": [],
   "source": [
    "# Adam compile\n",
    "model.compile(optimizer='adam',\n",
    "              loss='categorical_crossentropy',\n",
    "              metrics=['accuracy'])\n"
   ]
  },
  {
   "cell_type": "code",
   "execution_count": null,
   "metadata": {},
   "outputs": [],
   "source": [
    "model.compile(optimizer=\"adam\",\n",
    "              loss=\"sparse_categorical_crossentropy\",\n",
    "              metrics=[\"accuracy\"])"
   ]
  },
  {
   "cell_type": "code",
   "execution_count": 8,
   "metadata": {
    "scrolled": false
   },
   "outputs": [
    {
     "name": "stdout",
     "output_type": "stream",
     "text": [
      "Model: \"sequential_1\"\n",
      "_________________________________________________________________\n",
      "Layer (type)                 Output Shape              Param #   \n",
      "=================================================================\n",
      "conv2d_1 (Conv2D)            (None, 224, 224, 64)      1792      \n",
      "_________________________________________________________________\n",
      "conv2d_2 (Conv2D)            (None, 224, 224, 64)      36928     \n",
      "_________________________________________________________________\n",
      "max_pooling2d_1 (MaxPooling2 (None, 112, 112, 64)      0         \n",
      "_________________________________________________________________\n",
      "conv2d_3 (Conv2D)            (None, 112, 112, 128)     73856     \n",
      "_________________________________________________________________\n",
      "conv2d_4 (Conv2D)            (None, 112, 112, 128)     147584    \n",
      "_________________________________________________________________\n",
      "max_pooling2d_2 (MaxPooling2 (None, 56, 56, 128)       0         \n",
      "_________________________________________________________________\n",
      "conv2d_5 (Conv2D)            (None, 56, 56, 256)       295168    \n",
      "_________________________________________________________________\n",
      "conv2d_6 (Conv2D)            (None, 56, 56, 256)       590080    \n",
      "_________________________________________________________________\n",
      "conv2d_7 (Conv2D)            (None, 56, 56, 256)       590080    \n",
      "_________________________________________________________________\n",
      "max_pooling2d_3 (MaxPooling2 (None, 28, 28, 256)       0         \n",
      "_________________________________________________________________\n",
      "conv2d_8 (Conv2D)            (None, 28, 28, 512)       1180160   \n",
      "_________________________________________________________________\n",
      "conv2d_9 (Conv2D)            (None, 28, 28, 512)       2359808   \n",
      "_________________________________________________________________\n",
      "conv2d_10 (Conv2D)           (None, 28, 28, 512)       2359808   \n",
      "_________________________________________________________________\n",
      "max_pooling2d_4 (MaxPooling2 (None, 14, 14, 512)       0         \n",
      "_________________________________________________________________\n",
      "conv2d_11 (Conv2D)           (None, 14, 14, 512)       2359808   \n",
      "_________________________________________________________________\n",
      "conv2d_12 (Conv2D)           (None, 14, 14, 512)       2359808   \n",
      "_________________________________________________________________\n",
      "conv2d_13 (Conv2D)           (None, 14, 14, 512)       2359808   \n",
      "_________________________________________________________________\n",
      "max_pooling2d_5 (MaxPooling2 (None, 7, 7, 512)         0         \n",
      "_________________________________________________________________\n",
      "flatten_1 (Flatten)          (None, 25088)             0         \n",
      "_________________________________________________________________\n",
      "dense_1 (Dense)              (None, 4096)              102764544 \n",
      "_________________________________________________________________\n",
      "dense_2 (Dense)              (None, 4096)              16781312  \n",
      "_________________________________________________________________\n",
      "dense_3 (Dense)              (None, 10)                40970     \n",
      "=================================================================\n",
      "Total params: 134,301,514\n",
      "Trainable params: 134,301,514\n",
      "Non-trainable params: 0\n",
      "_________________________________________________________________\n"
     ]
    }
   ],
   "source": [
    "model.summary()"
   ]
  },
  {
   "cell_type": "code",
   "execution_count": 12,
   "metadata": {
    "scrolled": true
   },
   "outputs": [
    {
     "name": "stdout",
     "output_type": "stream",
     "text": [
      "Epoch 1/10\n",
      "2/2 [==============================] - 66s 33s/step - loss: 1189.9039 - accuracy: 0.0625 - val_loss: 2.3580 - val_accuracy: 0.0781\n",
      "Epoch 2/10\n",
      "2/2 [==============================] - 63s 32s/step - loss: 2.3153 - accuracy: 0.0938 - val_loss: 2.3170 - val_accuracy: 0.1250\n",
      "Epoch 3/10\n",
      "2/2 [==============================] - 63s 32s/step - loss: 2.3287 - accuracy: 0.0625 - val_loss: 2.2919 - val_accuracy: 0.0781\n",
      "Epoch 4/10\n",
      "2/2 [==============================] - 59s 29s/step - loss: 2.2959 - accuracy: 0.1719 - val_loss: 2.2847 - val_accuracy: 0.0625\n",
      "Epoch 5/10\n",
      "2/2 [==============================] - 59s 29s/step - loss: 2.2831 - accuracy: 0.1719 - val_loss: 2.3138 - val_accuracy: 0.1406\n",
      "Epoch 6/10\n",
      "2/2 [==============================] - 60s 30s/step - loss: 2.3581 - accuracy: 0.0938 - val_loss: 3.5203 - val_accuracy: 0.0312\n",
      "Epoch 7/10\n",
      "2/2 [==============================] - 61s 31s/step - loss: 2.5218 - accuracy: 0.1562 - val_loss: 2.2995 - val_accuracy: 0.0938\n",
      "Epoch 8/10\n",
      "2/2 [==============================] - 62s 31s/step - loss: 2.2945 - accuracy: 0.1875 - val_loss: 2.3054 - val_accuracy: 0.0938\n",
      "Epoch 9/10\n",
      "2/2 [==============================] - 60s 30s/step - loss: 2.2940 - accuracy: 0.1250 - val_loss: 2.3335 - val_accuracy: 0.0781\n",
      "Epoch 10/10\n",
      "2/2 [==============================] - 59s 30s/step - loss: 2.3115 - accuracy: 0.0938 - val_loss: 2.2930 - val_accuracy: 0.0781\n"
     ]
    },
    {
     "data": {
      "text/plain": [
       "<keras.callbacks.callbacks.History at 0x1c10755dd88>"
      ]
     },
     "execution_count": 12,
     "metadata": {},
     "output_type": "execute_result"
    }
   ],
   "source": [
    "model.fit(traindata, \n",
    "          epochs = 10,\n",
    "          steps_per_epoch = 2, \n",
    "          validation_steps = 2,\n",
    "          validation_data = 0.1)"
   ]
  },
  {
   "cell_type": "code",
   "execution_count": 10,
   "metadata": {},
   "outputs": [
    {
     "name": "stdout",
     "output_type": "stream",
     "text": [
      "ready\n"
     ]
    }
   ],
   "source": [
    "checkpoint = ModelCheckpoint(\"vgg16_1.h5\", monitor='val_accuracy', verbose=1, save_best_only=True, save_weights_only=False, mode='auto', period=1)\n",
    "early = EarlyStopping(monitor='val_accuracy', min_delta=0, patience=50, verbose=1, mode='auto')\n",
    "print(\"ready\")"
   ]
  },
  {
   "cell_type": "code",
   "execution_count": null,
   "metadata": {},
   "outputs": [
    {
     "name": "stdout",
     "output_type": "stream",
     "text": [
      "Epoch 1/100\n",
      "20/20 [==============================] - 516s 26s/step - loss: 1537.2283 - accuracy: 0.1141\n",
      "Epoch 2/100\n"
     ]
    },
    {
     "name": "stderr",
     "output_type": "stream",
     "text": [
      "C:\\Users\\camel\\Anaconda3\\lib\\site-packages\\keras\\callbacks\\callbacks.py:707: RuntimeWarning: Can save best model only with val_accuracy available, skipping.\n",
      "  'skipping.' % (self.monitor), RuntimeWarning)\n",
      "C:\\Users\\camel\\Anaconda3\\lib\\site-packages\\keras\\callbacks\\callbacks.py:846: RuntimeWarning: Early stopping conditioned on metric `val_accuracy` which is not available. Available metrics are: loss,accuracy\n",
      "  (self.monitor, ','.join(list(logs.keys()))), RuntimeWarning\n"
     ]
    },
    {
     "name": "stdout",
     "output_type": "stream",
     "text": [
      "20/20 [==============================] - 710s 36s/step - loss: 2.4039 - accuracy: 0.1078\n",
      "Epoch 3/100\n",
      "20/20 [==============================] - 655s 33s/step - loss: 2.3041 - accuracy: 0.1000\n",
      "Epoch 4/100\n",
      "20/20 [==============================] - 382s 19s/step - loss: 2.3011 - accuracy: 0.1031\n",
      "Epoch 5/100\n",
      "20/20 [==============================] - 434s 22s/step - loss: 2.3028 - accuracy: 0.0906\n",
      "Epoch 6/100\n",
      "20/20 [==============================] - 430s 21s/step - loss: 2.2994 - accuracy: 0.1187\n",
      "Epoch 7/100\n",
      "20/20 [==============================] - 426s 21s/step - loss: 2.3009 - accuracy: 0.1078\n",
      "Epoch 8/100\n",
      "20/20 [==============================] - 421s 21s/step - loss: 2.2591 - accuracy: 0.1625\n",
      "Epoch 9/100\n",
      "20/20 [==============================] - 429s 21s/step - loss: 2.0059 - accuracy: 0.2734\n",
      "Epoch 10/100\n",
      "20/20 [==============================] - 412s 21s/step - loss: 1.6111 - accuracy: 0.4109\n",
      "Epoch 11/100\n",
      "20/20 [==============================] - 424s 21s/step - loss: 1.5395 - accuracy: 0.4484\n",
      "Epoch 12/100\n",
      "20/20 [==============================] - 418s 21s/step - loss: 1.3395 - accuracy: 0.4731\n",
      "Epoch 13/100\n",
      "20/20 [==============================] - 425s 21s/step - loss: 1.2883 - accuracy: 0.5156\n",
      "Epoch 14/100\n",
      "20/20 [==============================] - 425s 21s/step - loss: 1.1468 - accuracy: 0.5906\n",
      "Epoch 15/100\n",
      "20/20 [==============================] - 436s 22s/step - loss: 1.0353 - accuracy: 0.6406\n",
      "Epoch 16/100\n",
      "20/20 [==============================] - 442s 22s/step - loss: 0.9411 - accuracy: 0.6562\n",
      "Epoch 17/100\n",
      "20/20 [==============================] - 471s 24s/step - loss: 0.8715 - accuracy: 0.7109\n",
      "Epoch 18/100\n",
      "20/20 [==============================] - 460s 23s/step - loss: 0.8127 - accuracy: 0.7391\n",
      "Epoch 19/100\n",
      "20/20 [==============================] - 445s 22s/step - loss: 0.7221 - accuracy: 0.7641\n",
      "Epoch 20/100\n",
      "20/20 [==============================] - 446s 22s/step - loss: 0.7178 - accuracy: 0.7859\n",
      "Epoch 21/100\n",
      "20/20 [==============================] - 446s 22s/step - loss: 0.6367 - accuracy: 0.8156\n",
      "Epoch 22/100\n",
      "20/20 [==============================] - 450s 23s/step - loss: 0.4947 - accuracy: 0.8500\n",
      "Epoch 23/100\n",
      "20/20 [==============================] - 459s 23s/step - loss: 0.4399 - accuracy: 0.8641\n",
      "Epoch 24/100\n",
      "20/20 [==============================] - 492s 25s/step - loss: 0.4895 - accuracy: 0.8438\n",
      "Epoch 25/100\n",
      "20/20 [==============================] - 497s 25s/step - loss: 0.5026 - accuracy: 0.8391\n",
      "Epoch 26/100\n",
      "17/20 [========================>.....] - ETA: 1:11 - loss: 0.4018 - accuracy: 0.8640"
     ]
    }
   ],
   "source": [
    "hist = model.fit(\n",
    "    traindata,\n",
    "    steps_per_epoch= 20,\n",
    "    epochs=100,\n",
    "#     validation_split= .1,\n",
    "    validation_steps=10,\n",
    "    callbacks=[checkpoint,early]\n",
    ")"
   ]
  },
  {
   "cell_type": "code",
   "execution_count": null,
   "metadata": {},
   "outputs": [],
   "source": [
    "plt.plot(hist.history[\"accuracy\"])\n",
    "# plt.plot(hist.history['val_accuracy'])\n",
    "plt.plot(hist.history['loss'])\n",
    "# plt.plot(hist.history['val_loss'])\n",
    "plt.title(\"model accuracy\")\n",
    "plt.ylabel(\"Accuracy\")\n",
    "plt.xlabel(\"Epoch\")\n",
    "plt.legend([\"Accuracy\",\"Validation Accuracy\",\"loss\",\"Validation Loss\"])\n",
    "plt.show()"
   ]
  },
  {
   "cell_type": "code",
   "execution_count": null,
   "metadata": {},
   "outputs": [],
   "source": [
    "img = image.load_img(\"..\\\\data\\\\imgs\\\\test\\\\img_38.jpg\",target_size=(224,224))\n",
    "img = np.asarray(img)\n",
    "plt.imshow(img)\n",
    "img = np.expand_dims(img, axis=0)\n",
    "saved_model = load_model(\"vgg16_1.h5\")\n",
    "output = saved_model.predict(img)\n",
    "print(output)"
   ]
  },
  {
   "cell_type": "code",
   "execution_count": null,
   "metadata": {},
   "outputs": [],
   "source": []
  },
  {
   "cell_type": "code",
   "execution_count": null,
   "metadata": {},
   "outputs": [],
   "source": []
  }
 ],
 "metadata": {
  "kernelspec": {
   "display_name": "Python 3",
   "language": "python",
   "name": "python3"
  },
  "language_info": {
   "codemirror_mode": {
    "name": "ipython",
    "version": 3
   },
   "file_extension": ".py",
   "mimetype": "text/x-python",
   "name": "python",
   "nbconvert_exporter": "python",
   "pygments_lexer": "ipython3",
   "version": "3.7.6"
  }
 },
 "nbformat": 4,
 "nbformat_minor": 4
}
