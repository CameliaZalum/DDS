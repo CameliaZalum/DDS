{
 "cells": [
  {
   "cell_type": "code",
   "execution_count": 3,
   "metadata": {},
   "outputs": [
    {
     "name": "stderr",
     "output_type": "stream",
     "text": [
      "Using TensorFlow backend.\n"
     ]
    }
   ],
   "source": [
    "import os\n",
    "# os.environ[\"CUDA_VISIBLE_DEVICES\"]=\"-1\"  \n",
    "\n",
    "import tensorflow as tf\n",
    "from tensorflow import keras\n",
    "from keras.optimizers import Adam\n",
    "from keras.models import Sequential\n",
    "from keras.layers import Dense, Conv2D, MaxPool2D , Flatten,  MaxPooling2D\n",
    "from keras.preprocessing.image import ImageDataGenerator\n",
    "from keras.callbacks import ModelCheckpoint, EarlyStopping\n",
    "import matplotlib.pyplot as plt\n",
    "from keras.preprocessing import image\n",
    "from keras.models import load_model\n",
    "import numpy as np"
   ]
  },
  {
   "cell_type": "code",
   "execution_count": 4,
   "metadata": {},
   "outputs": [
    {
     "name": "stdout",
     "output_type": "stream",
     "text": [
      "not\n"
     ]
    }
   ],
   "source": [
    "physical_devices = tf.config.list_physical_devices('GPU') \n",
    "try:\n",
    "    tf.config.experimental.set_memory_growth(physical_devices[0], True) \n",
    "    tf.config.log_device_placement = True  # to log device placement (on which device the operation ran)\n",
    "except: \n",
    "    print(\"not\")"
   ]
  },
  {
   "cell_type": "code",
   "execution_count": 5,
   "metadata": {},
   "outputs": [
    {
     "name": "stdout",
     "output_type": "stream",
     "text": [
      "Found 22424 images belonging to 10 classes.\n",
      "Found 22424 images belonging to 10 classes.\n"
     ]
    }
   ],
   "source": [
    "data = ImageDataGenerator()\n",
    "traindata = data.flow_from_directory(directory=\"..\\\\data\\\\imgs\\\\train\",target_size=(224, 224))\n",
    "testdata = data.flow_from_directory(directory=\"..\\\\data\\\\imgs\\\\test\", target_size=(224, 224))"
   ]
  },
  {
   "cell_type": "code",
   "execution_count": 6,
   "metadata": {},
   "outputs": [],
   "source": [
    "model = Sequential()\n",
    "\n",
    "model.add(Conv2D(input_shape=(224,224,3),filters=64,kernel_size=(3,3),padding=\"same\", activation=\"relu\"))\n",
    "\n",
    "model.add(Conv2D(filters=64,kernel_size=(3,3),padding=\"same\", activation=\"relu\"))\n",
    "\n",
    "model.add(MaxPool2D(pool_size=(2,2),strides=(2,2)))\n",
    "\n",
    "model.add(Conv2D(filters=128, kernel_size=(3,3), padding=\"same\", activation=\"relu\"))\n",
    "\n",
    "model.add(Conv2D(filters=128, kernel_size=(3,3), padding=\"same\", activation=\"relu\"))\n",
    "\n",
    "model.add(MaxPool2D(pool_size=(2,2),strides=(2,2)))\n",
    "\n",
    "model.add(Conv2D(filters=256, kernel_size=(3,3), padding=\"same\", activation=\"relu\"))\n",
    "\n",
    "model.add(Conv2D(filters=256, kernel_size=(3,3), padding=\"same\", activation=\"relu\"))\n",
    "\n",
    "model.add(Conv2D(filters=256, kernel_size=(3,3), padding=\"same\", activation=\"relu\"))\n",
    "\n",
    "model.add(MaxPool2D(pool_size=(2,2),strides=(2,2)))\n",
    "\n",
    "model.add(Conv2D(filters=512, kernel_size=(3,3), padding=\"same\", activation=\"relu\"))\n",
    "\n",
    "model.add(Conv2D(filters=512, kernel_size=(3,3), padding=\"same\", activation=\"relu\"))\n",
    "\n",
    "model.add(Conv2D(filters=512, kernel_size=(3,3), padding=\"same\", activation=\"relu\"))\n",
    "\n",
    "model.add(MaxPool2D(pool_size=(2,2),strides=(2,2)))\n",
    "\n",
    "model.add(Conv2D(filters=512, kernel_size=(3,3), padding=\"same\", activation=\"relu\"))\n",
    "\n",
    "model.add(Conv2D(filters=512, kernel_size=(3,3), padding=\"same\", activation=\"relu\"))\n",
    "\n",
    "model.add(Conv2D(filters=512, kernel_size=(3,3), padding=\"same\", activation=\"relu\"))\n",
    "\n",
    "model.add(MaxPool2D(pool_size=(2,2),strides=(2,2)))\n",
    "\n",
    "model.add(Flatten())\n",
    "\n",
    "model.add(Dense(units=4096,activation=\"relu\"))\n",
    "\n",
    "model.add(Dense(units=4096,activation=\"relu\"))\n",
    "\n",
    "model.add(Dense(units=10, activation=\"softmax\"))"
   ]
  },
  {
   "cell_type": "code",
   "execution_count": 5,
   "metadata": {},
   "outputs": [],
   "source": [
    "# model = Sequential([\n",
    "#     Conv2D(16, 3, padding='same', activation='relu', input_shape=(224, 224 ,3)),\n",
    "#     MaxPooling2D(),\n",
    "#     Conv2D(32, 3, padding='same', activation='relu'),\n",
    "#     MaxPooling2D(),\n",
    "#     Conv2D(64, 3, padding='same', activation='relu'),\n",
    "#     MaxPooling2D(),\n",
    "#     Flatten(),\n",
    "#     Dense(512, activation='relu'),\n",
    "#     Dense(10)\n",
    "# ])"
   ]
  },
  {
   "cell_type": "code",
   "execution_count": 19,
   "metadata": {},
   "outputs": [],
   "source": [
    "# Adam compile\n",
    "model.compile(optimizer='adam',\n",
    "              loss='categorical_crossentropy',\n",
    "              metrics=['accuracy'])\n"
   ]
  },
  {
   "cell_type": "code",
   "execution_count": 15,
   "metadata": {},
   "outputs": [],
   "source": [
    "# model.compile(optimizer=\"adam\",\n",
    "#               loss=\"sparse_categorical_crossentropy\",\n",
    "#               metrics=[\"accuracy\"])"
   ]
  },
  {
   "cell_type": "code",
   "execution_count": 20,
   "metadata": {
    "scrolled": false
   },
   "outputs": [
    {
     "name": "stdout",
     "output_type": "stream",
     "text": [
      "Model: \"sequential_1\"\n",
      "_________________________________________________________________\n",
      "Layer (type)                 Output Shape              Param #   \n",
      "=================================================================\n",
      "conv2d_1 (Conv2D)            (None, 224, 224, 64)      1792      \n",
      "_________________________________________________________________\n",
      "conv2d_2 (Conv2D)            (None, 224, 224, 64)      36928     \n",
      "_________________________________________________________________\n",
      "max_pooling2d_1 (MaxPooling2 (None, 112, 112, 64)      0         \n",
      "_________________________________________________________________\n",
      "conv2d_3 (Conv2D)            (None, 112, 112, 128)     73856     \n",
      "_________________________________________________________________\n",
      "conv2d_4 (Conv2D)            (None, 112, 112, 128)     147584    \n",
      "_________________________________________________________________\n",
      "max_pooling2d_2 (MaxPooling2 (None, 56, 56, 128)       0         \n",
      "_________________________________________________________________\n",
      "conv2d_5 (Conv2D)            (None, 56, 56, 256)       295168    \n",
      "_________________________________________________________________\n",
      "conv2d_6 (Conv2D)            (None, 56, 56, 256)       590080    \n",
      "_________________________________________________________________\n",
      "conv2d_7 (Conv2D)            (None, 56, 56, 256)       590080    \n",
      "_________________________________________________________________\n",
      "max_pooling2d_3 (MaxPooling2 (None, 28, 28, 256)       0         \n",
      "_________________________________________________________________\n",
      "conv2d_8 (Conv2D)            (None, 28, 28, 512)       1180160   \n",
      "_________________________________________________________________\n",
      "conv2d_9 (Conv2D)            (None, 28, 28, 512)       2359808   \n",
      "_________________________________________________________________\n",
      "conv2d_10 (Conv2D)           (None, 28, 28, 512)       2359808   \n",
      "_________________________________________________________________\n",
      "max_pooling2d_4 (MaxPooling2 (None, 14, 14, 512)       0         \n",
      "_________________________________________________________________\n",
      "conv2d_11 (Conv2D)           (None, 14, 14, 512)       2359808   \n",
      "_________________________________________________________________\n",
      "conv2d_12 (Conv2D)           (None, 14, 14, 512)       2359808   \n",
      "_________________________________________________________________\n",
      "conv2d_13 (Conv2D)           (None, 14, 14, 512)       2359808   \n",
      "_________________________________________________________________\n",
      "max_pooling2d_5 (MaxPooling2 (None, 7, 7, 512)         0         \n",
      "_________________________________________________________________\n",
      "flatten_1 (Flatten)          (None, 25088)             0         \n",
      "_________________________________________________________________\n",
      "dense_1 (Dense)              (None, 4096)              102764544 \n",
      "_________________________________________________________________\n",
      "dense_2 (Dense)              (None, 4096)              16781312  \n",
      "_________________________________________________________________\n",
      "dense_3 (Dense)              (None, 10)                40970     \n",
      "=================================================================\n",
      "Total params: 134,301,514\n",
      "Trainable params: 134,301,514\n",
      "Non-trainable params: 0\n",
      "_________________________________________________________________\n"
     ]
    }
   ],
   "source": [
    "model.summary()"
   ]
  },
  {
   "cell_type": "code",
   "execution_count": 12,
   "metadata": {
    "scrolled": true
   },
   "outputs": [
    {
     "name": "stdout",
     "output_type": "stream",
     "text": [
      "Epoch 1/10\n",
      "2/2 [==============================] - 48s 24s/step - loss: 2.2893 - accuracy: 0.1875\n",
      "Epoch 2/10\n",
      "2/2 [==============================] - 52s 26s/step - loss: 2.3052 - accuracy: 0.1094\n",
      "Epoch 3/10\n",
      "2/2 [==============================] - 50s 25s/step - loss: 2.2884 - accuracy: 0.1094\n",
      "Epoch 4/10\n",
      "2/2 [==============================] - 53s 26s/step - loss: 2.2992 - accuracy: 0.1094\n",
      "Epoch 5/10\n",
      "2/2 [==============================] - 53s 27s/step - loss: 2.3036 - accuracy: 0.0938\n",
      "Epoch 6/10\n",
      "2/2 [==============================] - 52s 26s/step - loss: 2.3075 - accuracy: 0.0625\n",
      "Epoch 7/10\n",
      "2/2 [==============================] - 53s 27s/step - loss: 2.2956 - accuracy: 0.1562\n",
      "Epoch 8/10\n",
      "2/2 [==============================] - 59s 29s/step - loss: 2.2944 - accuracy: 0.1562\n",
      "Epoch 9/10\n",
      "2/2 [==============================] - 56s 28s/step - loss: 2.2991 - accuracy: 0.0938\n",
      "Epoch 10/10\n",
      "2/2 [==============================] - 55s 27s/step - loss: 2.3045 - accuracy: 0.0469\n"
     ]
    }
   ],
   "source": [
    "histE = model.fit(traindata, \n",
    "          epochs = 10,\n",
    "          steps_per_epoch = 2, \n",
    "          validation_steps = 2,\n",
    "          )"
   ]
  },
  {
   "cell_type": "code",
   "execution_count": 21,
   "metadata": {},
   "outputs": [
    {
     "name": "stdout",
     "output_type": "stream",
     "text": [
      "ready\n"
     ]
    }
   ],
   "source": [
    "checkpoint = ModelCheckpoint(\"vgg16_1.h5\", monitor='val_accuracy', verbose=1, save_best_only=True, save_weights_only=False, mode='auto', period=1)\n",
    "early = EarlyStopping(monitor='val_accuracy', min_delta=0, patience=50, verbose=1, mode='auto')\n",
    "print(\"ready\")"
   ]
  },
  {
   "cell_type": "code",
   "execution_count": 22,
   "metadata": {},
   "outputs": [
    {
     "name": "stdout",
     "output_type": "stream",
     "text": [
      "Epoch 1/100\n",
      "20/20 [==============================] - 434s 22s/step - loss: 2.3722 - accuracy: 0.1281\n",
      "Epoch 2/100\n",
      "20/20 [==============================] - 423s 21s/step - loss: 2.2984 - accuracy: 0.1125\n",
      "Epoch 3/100\n",
      "20/20 [==============================] - 419s 21s/step - loss: 2.3003 - accuracy: 0.1000\n",
      "Epoch 4/100\n",
      "20/20 [==============================] - 419s 21s/step - loss: 2.2997 - accuracy: 0.1344\n",
      "Epoch 5/100\n",
      "20/20 [==============================] - 418s 21s/step - loss: 2.3151 - accuracy: 0.1141\n",
      "Epoch 6/100\n",
      "20/20 [==============================] - 418s 21s/step - loss: 2.3021 - accuracy: 0.1047\n",
      "Epoch 7/100\n",
      "20/20 [==============================] - 417s 21s/step - loss: 2.3041 - accuracy: 0.1047\n",
      "Epoch 8/100\n",
      "20/20 [==============================] - 417s 21s/step - loss: 2.3541 - accuracy: 0.1078\n",
      "Epoch 9/100\n",
      "20/20 [==============================] - 418s 21s/step - loss: 2.4237 - accuracy: 0.1141\n",
      "Epoch 10/100\n",
      "20/20 [==============================] - 421s 21s/step - loss: 2.5834 - accuracy: 0.0969\n",
      "Epoch 11/100\n",
      "20/20 [==============================] - 426s 21s/step - loss: 2.3053 - accuracy: 0.1031\n",
      "Epoch 12/100\n",
      "20/20 [==============================] - 417s 21s/step - loss: 2.3023 - accuracy: 0.1172\n",
      "Epoch 13/100\n",
      "20/20 [==============================] - 421s 21s/step - loss: 2.3034 - accuracy: 0.1156\n",
      "Epoch 14/100\n",
      "20/20 [==============================] - 420s 21s/step - loss: 2.3324 - accuracy: 0.0891\n",
      "Epoch 15/100\n",
      "20/20 [==============================] - 420s 21s/step - loss: 2.3047 - accuracy: 0.0906\n",
      "Epoch 16/100\n",
      "20/20 [==============================] - 417s 21s/step - loss: 2.3034 - accuracy: 0.1187\n",
      "Epoch 17/100\n",
      "20/20 [==============================] - 416s 21s/step - loss: 2.2994 - accuracy: 0.1125\n",
      "Epoch 18/100\n",
      "20/20 [==============================] - 419s 21s/step - loss: 2.2991 - accuracy: 0.1141\n",
      "Epoch 19/100\n",
      "20/20 [==============================] - 428s 21s/step - loss: 2.3025 - accuracy: 0.0984\n",
      "Epoch 20/100\n",
      "20/20 [==============================] - 419s 21s/step - loss: 2.2967 - accuracy: 0.1063\n",
      "Epoch 21/100\n",
      "20/20 [==============================] - 415s 21s/step - loss: 2.3012 - accuracy: 0.1094\n",
      "Epoch 22/100\n",
      "20/20 [==============================] - 416s 21s/step - loss: 2.3050 - accuracy: 0.0797\n",
      "Epoch 23/100\n",
      "20/20 [==============================] - 407s 20s/step - loss: 2.2981 - accuracy: 0.1203\n",
      "Epoch 24/100\n",
      "20/20 [==============================] - 413s 21s/step - loss: 2.2942 - accuracy: 0.1047\n",
      "Epoch 25/100\n",
      "20/20 [==============================] - 412s 21s/step - loss: 2.3030 - accuracy: 0.0922\n",
      "Epoch 26/100\n",
      "20/20 [==============================] - 412s 21s/step - loss: 2.3010 - accuracy: 0.1266\n",
      "Epoch 27/100\n",
      "20/20 [==============================] - 423s 21s/step - loss: 2.2982 - accuracy: 0.1172\n",
      "Epoch 28/100\n",
      "20/20 [==============================] - 414s 21s/step - loss: 2.3043 - accuracy: 0.1047\n",
      "Epoch 29/100\n",
      "20/20 [==============================] - 419s 21s/step - loss: 2.3010 - accuracy: 0.1125\n",
      "Epoch 30/100\n",
      "20/20 [==============================] - 414s 21s/step - loss: 2.3025 - accuracy: 0.0969\n",
      "Epoch 31/100\n",
      "20/20 [==============================] - 411s 21s/step - loss: 2.2990 - accuracy: 0.1203\n",
      "Epoch 32/100\n",
      "20/20 [==============================] - 411s 21s/step - loss: 2.2996 - accuracy: 0.1109\n",
      "Epoch 33/100\n",
      "20/20 [==============================] - 412s 21s/step - loss: 2.2981 - accuracy: 0.1172\n",
      "Epoch 34/100\n",
      "20/20 [==============================] - 412s 21s/step - loss: 2.3057 - accuracy: 0.1078\n",
      "Epoch 35/100\n",
      "20/20 [==============================] - 412s 21s/step - loss: 2.2983 - accuracy: 0.1250\n",
      "Epoch 36/100\n",
      "20/20 [==============================] - 411s 21s/step - loss: 2.3016 - accuracy: 0.0906\n",
      "Epoch 37/100\n",
      "20/20 [==============================] - 412s 21s/step - loss: 2.3003 - accuracy: 0.1234\n",
      "Epoch 38/100\n",
      "20/20 [==============================] - 411s 21s/step - loss: 2.2986 - accuracy: 0.0906\n",
      "Epoch 39/100\n",
      "20/20 [==============================] - 411s 21s/step - loss: 2.2995 - accuracy: 0.1063\n",
      "Epoch 40/100\n",
      "20/20 [==============================] - 411s 21s/step - loss: 2.2968 - accuracy: 0.1141\n",
      "Epoch 41/100\n",
      "20/20 [==============================] - 411s 21s/step - loss: 2.3011 - accuracy: 0.0984\n",
      "Epoch 42/100\n",
      "20/20 [==============================] - 411s 21s/step - loss: 2.3048 - accuracy: 0.1094\n",
      "Epoch 43/100\n",
      "20/20 [==============================] - 411s 21s/step - loss: 2.3045 - accuracy: 0.1266\n",
      "Epoch 44/100\n",
      "20/20 [==============================] - 411s 21s/step - loss: 2.3013 - accuracy: 0.1031\n",
      "Epoch 45/100\n",
      "20/20 [==============================] - 414s 21s/step - loss: 2.2979 - accuracy: 0.1172\n",
      "Epoch 46/100\n",
      "20/20 [==============================] - 412s 21s/step - loss: 2.3052 - accuracy: 0.1047\n",
      "Epoch 47/100\n",
      "20/20 [==============================] - 417s 21s/step - loss: 2.2993 - accuracy: 0.1187\n",
      "Epoch 48/100\n",
      "20/20 [==============================] - 416s 21s/step - loss: 2.3031 - accuracy: 0.0934\n",
      "Epoch 49/100\n",
      "20/20 [==============================] - 415s 21s/step - loss: 2.3023 - accuracy: 0.1094\n",
      "Epoch 50/100\n",
      "20/20 [==============================] - 411s 21s/step - loss: 2.3011 - accuracy: 0.1047\n",
      "Epoch 51/100\n",
      "20/20 [==============================] - 411s 21s/step - loss: 2.2993 - accuracy: 0.0984\n",
      "Epoch 52/100\n",
      "20/20 [==============================] - 412s 21s/step - loss: 2.2972 - accuracy: 0.1266\n",
      "Epoch 53/100\n",
      "20/20 [==============================] - 412s 21s/step - loss: 2.3026 - accuracy: 0.0844\n",
      "Epoch 54/100\n",
      "20/20 [==============================] - 413s 21s/step - loss: 2.3044 - accuracy: 0.1297\n",
      "Epoch 55/100\n",
      "20/20 [==============================] - 411s 21s/step - loss: 2.2999 - accuracy: 0.1172\n",
      "Epoch 56/100\n",
      "20/20 [==============================] - 412s 21s/step - loss: 2.3019 - accuracy: 0.1141\n",
      "Epoch 57/100\n",
      "20/20 [==============================] - 412s 21s/step - loss: 2.2951 - accuracy: 0.1156\n",
      "Epoch 58/100\n",
      "20/20 [==============================] - 411s 21s/step - loss: 2.3013 - accuracy: 0.0891\n",
      "Epoch 59/100\n",
      "20/20 [==============================] - 410s 20s/step - loss: 2.2995 - accuracy: 0.1187\n",
      "Epoch 60/100\n",
      "20/20 [==============================] - 412s 21s/step - loss: 2.2984 - accuracy: 0.1141\n",
      "Epoch 61/100\n",
      "20/20 [==============================] - 411s 21s/step - loss: 2.3011 - accuracy: 0.1234\n",
      "Epoch 62/100\n",
      "20/20 [==============================] - 412s 21s/step - loss: 2.3031 - accuracy: 0.1094\n",
      "Epoch 63/100\n",
      "20/20 [==============================] - 412s 21s/step - loss: 2.2958 - accuracy: 0.1234\n",
      "Epoch 64/100\n",
      "20/20 [==============================] - 412s 21s/step - loss: 2.3016 - accuracy: 0.0891\n",
      "Epoch 65/100\n",
      "20/20 [==============================] - 411s 21s/step - loss: 2.2992 - accuracy: 0.1109\n",
      "Epoch 66/100\n",
      "20/20 [==============================] - 412s 21s/step - loss: 2.2992 - accuracy: 0.1187\n",
      "Epoch 67/100\n",
      "20/20 [==============================] - 411s 21s/step - loss: 2.3028 - accuracy: 0.1141\n",
      "Epoch 68/100\n",
      "20/20 [==============================] - 411s 21s/step - loss: 2.2948 - accuracy: 0.1281\n",
      "Epoch 69/100\n",
      "20/20 [==============================] - 411s 21s/step - loss: 2.3010 - accuracy: 0.1187\n",
      "Epoch 70/100\n",
      "20/20 [==============================] - 412s 21s/step - loss: 2.3001 - accuracy: 0.1141\n",
      "Epoch 71/100\n",
      "20/20 [==============================] - 411s 21s/step - loss: 2.3053 - accuracy: 0.1000\n",
      "Epoch 72/100\n",
      "20/20 [==============================] - 412s 21s/step - loss: 2.2999 - accuracy: 0.0969\n",
      "Epoch 73/100\n",
      "20/20 [==============================] - 412s 21s/step - loss: 2.3000 - accuracy: 0.1078\n",
      "Epoch 74/100\n",
      "20/20 [==============================] - 411s 21s/step - loss: 2.3026 - accuracy: 0.1047\n",
      "Epoch 75/100\n",
      "20/20 [==============================] - 412s 21s/step - loss: 2.2969 - accuracy: 0.1094\n",
      "Epoch 76/100\n",
      "20/20 [==============================] - 412s 21s/step - loss: 2.3027 - accuracy: 0.1141\n",
      "Epoch 77/100\n",
      "20/20 [==============================] - 411s 21s/step - loss: 2.3015 - accuracy: 0.1063\n",
      "Epoch 78/100\n",
      "20/20 [==============================] - 412s 21s/step - loss: 2.2991 - accuracy: 0.1219\n",
      "Epoch 79/100\n",
      "20/20 [==============================] - 411s 21s/step - loss: 2.3042 - accuracy: 0.1156\n",
      "Epoch 80/100\n",
      "20/20 [==============================] - 409s 20s/step - loss: 2.3032 - accuracy: 0.0918\n",
      "Epoch 81/100\n"
     ]
    },
    {
     "name": "stdout",
     "output_type": "stream",
     "text": [
      "20/20 [==============================] - 411s 21s/step - loss: 2.3000 - accuracy: 0.1109\n",
      "Epoch 82/100\n",
      "20/20 [==============================] - 411s 21s/step - loss: 2.3007 - accuracy: 0.1125\n",
      "Epoch 83/100\n",
      "20/20 [==============================] - 411s 21s/step - loss: 2.2992 - accuracy: 0.0953\n",
      "Epoch 84/100\n",
      "20/20 [==============================] - 411s 21s/step - loss: 2.3001 - accuracy: 0.1219\n",
      "Epoch 85/100\n",
      "20/20 [==============================] - 412s 21s/step - loss: 2.2994 - accuracy: 0.1266\n",
      "Epoch 86/100\n",
      "20/20 [==============================] - 412s 21s/step - loss: 2.3013 - accuracy: 0.1000\n",
      "Epoch 87/100\n",
      "20/20 [==============================] - 411s 21s/step - loss: 2.3011 - accuracy: 0.1016\n",
      "Epoch 88/100\n",
      "20/20 [==============================] - 411s 21s/step - loss: 2.3002 - accuracy: 0.1297\n",
      "Epoch 89/100\n",
      "20/20 [==============================] - 413s 21s/step - loss: 2.3017 - accuracy: 0.1031\n",
      "Epoch 90/100\n",
      "20/20 [==============================] - 411s 21s/step - loss: 2.3002 - accuracy: 0.1063\n",
      "Epoch 91/100\n",
      "20/20 [==============================] - 412s 21s/step - loss: 2.2996 - accuracy: 0.1078\n",
      "Epoch 92/100\n",
      "20/20 [==============================] - 411s 21s/step - loss: 2.2983 - accuracy: 0.1172\n",
      "Epoch 93/100\n",
      "20/20 [==============================] - 411s 21s/step - loss: 2.2983 - accuracy: 0.1063\n",
      "Epoch 94/100\n",
      "20/20 [==============================] - 422s 21s/step - loss: 2.2995 - accuracy: 0.1172\n",
      "Epoch 95/100\n",
      "20/20 [==============================] - 417s 21s/step - loss: 2.3034 - accuracy: 0.1031\n",
      "Epoch 96/100\n",
      "20/20 [==============================] - 430s 22s/step - loss: 2.2990 - accuracy: 0.1078\n",
      "Epoch 97/100\n",
      "20/20 [==============================] - 452s 23s/step - loss: 2.2975 - accuracy: 0.1125\n",
      "Epoch 98/100\n",
      "20/20 [==============================] - 479s 24s/step - loss: 2.2955 - accuracy: 0.1312\n",
      "Epoch 99/100\n",
      "20/20 [==============================] - 447s 22s/step - loss: 2.2954 - accuracy: 0.1078\n",
      "Epoch 100/100\n",
      "20/20 [==============================] - 499s 25s/step - loss: 2.3004 - accuracy: 0.1172\n"
     ]
    }
   ],
   "source": [
    "hist = model.fit(\n",
    "    traindata,\n",
    "    steps_per_epoch= 20,\n",
    "    epochs=100,\n",
    "#     validation_split= .1,\n",
    "    validation_steps=10,\n",
    "#     callbacks=[checkpoint,early]\n",
    ")"
   ]
  },
  {
   "cell_type": "code",
   "execution_count": 23,
   "metadata": {},
   "outputs": [
    {
     "data": {
      "image/png": "[encoded data removed]",
      "text/plain": [
       "<Figure size 432x288 with 1 Axes>"
      ]
     },
     "metadata": {
      "needs_background": "light"
     },
     "output_type": "display_data"
    }
   ],
   "source": [
    "import matplotlib.pyplot as plt\n",
    "plt.plot(hist.history[\"accuracy\"])\n",
    "# plt.plot(hist.history['val_accuracy'])\n",
    "plt.plot(hist.history['loss'])\n",
    "# plt.plot(hist.history['val_loss'])\n",
    "plt.title(\"model accuracy\")\n",
    "plt.ylabel(\"Accuracy\")\n",
    "plt.xlabel(\"Epoch\")\n",
    "plt.legend([\"Accuracy\",\"loss\"])\n",
    "plt.show()"
   ]
  },
  {
   "cell_type": "code",
   "execution_count": null,
   "metadata": {},
   "outputs": [],
   "source": [
    "# img = testdata[120]\n",
    "# # plt.imshow(img)\n",
    "# print(img.shape)\n",
    "# img_class = model.predict_classes(img)\n",
    "# saved_model = load_model(\"vgg16_1.h5\")\n",
    "# # output = saved_model.predict(img)\n",
    "\n",
    "# # print(output)\n",
    "# print(saved_model.predict_classes(img))"
   ]
  },
  {
   "cell_type": "code",
   "execution_count": 24,
   "metadata": {},
   "outputs": [
    {
     "name": "stdout",
     "output_type": "stream",
     "text": [
      "[[0.11323359 0.09860019 0.10700713 ... 0.08644512 0.08319972 0.09172932]\n",
      " [0.11323359 0.09860019 0.10700713 ... 0.08644512 0.08319972 0.09172932]\n",
      " [0.11323359 0.09860019 0.10700713 ... 0.08644512 0.08319972 0.09172932]\n",
      " ...\n",
      " [0.11323359 0.09860019 0.10700713 ... 0.08644512 0.08319972 0.09172932]\n",
      " [0.11323359 0.09860019 0.10700713 ... 0.08644512 0.08319972 0.09172932]\n",
      " [0.11323359 0.09860019 0.10700713 ... 0.08644512 0.08319972 0.09172932]]\n"
     ]
    }
   ],
   "source": [
    "print(model.predict(testdata))"
   ]
  },
  {
   "cell_type": "code",
   "execution_count": 33,
   "metadata": {},
   "outputs": [
    {
     "name": "stdout",
     "output_type": "stream",
     "text": [
      "701/701 [==============================] - 5307s 8s/step\n",
      "Test loss: 2.27602481842041 / Test accuracy: 0.11099714785814285\n"
     ]
    }
   ],
   "source": [
    "score = model.evaluate(testdata)\n",
    "print(f'Test loss: {score[0]} / Test accuracy: {score[1]}')"
   ]
  },
  {
   "cell_type": "code",
   "execution_count": null,
   "metadata": {},
   "outputs": [],
   "source": []
  }
 ],
 "metadata": {
  "kernelspec": {
   "display_name": "Python 3",
   "language": "python",
   "name": "python3"
  },
  "language_info": {
   "codemirror_mode": {
    "name": "ipython",
    "version": 3
   },
   "file_extension": ".py",
   "mimetype": "text/x-python",
   "name": "python",
   "nbconvert_exporter": "python",
   "pygments_lexer": "ipython3",
   "version": "3.7.6"
  }
 },
 "nbformat": 4,
 "nbformat_minor": 4
}
